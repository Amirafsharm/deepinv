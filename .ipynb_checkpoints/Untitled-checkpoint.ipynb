{
 "cells": [
  {
   "cell_type": "code",
   "execution_count": 45,
   "id": "f9b74f12",
   "metadata": {},
   "outputs": [],
   "source": [
    "import deepinv as dinv\n",
    "from torch.utils.data import DataLoader\n",
    "import torch\n",
    "from pathlib import Path\n",
    "from torchvision import transforms\n",
    "from deepinv.optim.prior import PnP\n",
    "from deepinv.models.denoiser import Denoiser\n",
    "from deepinv.utils.demo import load_dataset, load_degradation\n",
    "from deepinv.training_utils import train, test\n",
    "from deepinv.models.denoiser import online_weights_path"
   ]
  },
  {
   "cell_type": "code",
   "execution_count": 46,
   "id": "76afe559",
   "metadata": {},
   "outputs": [],
   "source": [
    "n_channels = 2  # real + imaginary parts\n",
    "\n",
    "# Set up the trainable denoising prior\n",
    "denoiser_spec = {\n",
    "    \"name\": \"dncnn\",\n",
    "    \"args\": {\n",
    "        \"in_channels\": n_channels,\n",
    "        \"out_channels\": n_channels,\n",
    "        \"depth\": 7,\n",
    "        \"pretrained\": None,\n",
    "        \"train\": True,\n",
    "        \"device\": 'cpu',\n",
    "    },\n",
    "}\n",
    "\n",
    "# If the prior dict value is initialized with a table of length max_iter, then a distinct model is trained for each\n",
    "# iteration. For fixed trained model prior across iterations, initialize with a single model.\n",
    "prior = PnP(denoiser=Denoiser(denoiser_spec))"
   ]
  },
  {
   "cell_type": "code",
   "execution_count": 47,
   "id": "dc99693b",
   "metadata": {},
   "outputs": [],
   "source": [
    "data_fidelity = dinv.optim.L2()\n",
    "\n",
    "max_iter = 3  # number of unfolded layers\n",
    "lamb = [1.0] * max_iter  # initialization of the regularization parameter\n",
    "stepsize = [1.0] * max_iter  # initialization of the step sizes.\n",
    "sigma_denoiser = [0.01] * max_iter  # initialization of the denoiser parameters\n",
    "params_algo = {  # wrap all the restoration parameters in a 'params_algo' dictionary\n",
    "    \"stepsize\": stepsize,\n",
    "    \"g_param\": sigma_denoiser,\n",
    "    \"lambda\": lamb,\n",
    "}\n",
    "\n",
    "trainable_params = [\n",
    "    \"lambda\",\n",
    "    \"stepsize\",\n",
    "    \"g_param\",\n",
    "]  # define which parameters from 'params_algo' are trainable\n",
    "\n",
    "# Define the unfolded trainable model.\n",
    "model = dinv.unfolded.Unfolded(\n",
    "    \"HQS\",\n",
    "    params_algo=params_algo,\n",
    "    trainable_params=trainable_params,\n",
    "    data_fidelity=data_fidelity,\n",
    "    max_iter=max_iter,\n",
    "    prior=prior,\n",
    ")"
   ]
  },
  {
   "cell_type": "code",
   "execution_count": 48,
   "id": "6874cebc",
   "metadata": {},
   "outputs": [
    {
     "ename": "RuntimeError",
     "evalue": "Error(s) in loading state_dict for BaseUnfold:\n\tMissing key(s) in state_dict: \"init_params_algo.g_param.0\", \"init_params_algo.g_param.1\", \"init_params_algo.g_param.2\", \"init_params_algo.lambda.0\", \"init_params_algo.lambda.1\", \"init_params_algo.lambda.2\", \"init_params_algo.stepsize.0\", \"init_params_algo.stepsize.1\", \"init_params_algo.stepsize.2\", \"prior.0.denoiser.denoiser.in_conv.weight\", \"prior.0.denoiser.denoiser.in_conv.bias\", \"prior.0.denoiser.denoiser.conv_list.0.weight\", \"prior.0.denoiser.denoiser.conv_list.0.bias\", \"prior.0.denoiser.denoiser.conv_list.1.weight\", \"prior.0.denoiser.denoiser.conv_list.1.bias\", \"prior.0.denoiser.denoiser.conv_list.2.weight\", \"prior.0.denoiser.denoiser.conv_list.2.bias\", \"prior.0.denoiser.denoiser.conv_list.3.weight\", \"prior.0.denoiser.denoiser.conv_list.3.bias\", \"prior.0.denoiser.denoiser.conv_list.4.weight\", \"prior.0.denoiser.denoiser.conv_list.4.bias\", \"prior.0.denoiser.denoiser.out_conv.weight\", \"prior.0.denoiser.denoiser.out_conv.bias\". \n\tUnexpected key(s) in state_dict: \"params_algo.g_param.0\", \"params_algo.g_param.1\", \"params_algo.g_param.2\", \"params_algo.lambda.0\", \"params_algo.lambda.1\", \"params_algo.lambda.2\", \"params_algo.stepsize.0\", \"params_algo.stepsize.1\", \"params_algo.stepsize.2\", \"prior.prox_g.0.denoiser.in_conv.weight\", \"prior.prox_g.0.denoiser.in_conv.bias\", \"prior.prox_g.0.denoiser.conv_list.0.weight\", \"prior.prox_g.0.denoiser.conv_list.0.bias\", \"prior.prox_g.0.denoiser.conv_list.1.weight\", \"prior.prox_g.0.denoiser.conv_list.1.bias\", \"prior.prox_g.0.denoiser.conv_list.2.weight\", \"prior.prox_g.0.denoiser.conv_list.2.bias\", \"prior.prox_g.0.denoiser.conv_list.3.weight\", \"prior.prox_g.0.denoiser.conv_list.3.bias\", \"prior.prox_g.0.denoiser.conv_list.4.weight\", \"prior.prox_g.0.denoiser.conv_list.4.bias\", \"prior.prox_g.0.denoiser.out_conv.weight\", \"prior.prox_g.0.denoiser.out_conv.bias\". ",
     "output_type": "error",
     "traceback": [
      "\u001b[0;31m---------------------------------------------------------------------------\u001b[0m",
      "\u001b[0;31mRuntimeError\u001b[0m                              Traceback (most recent call last)",
      "Cell \u001b[0;32mIn[48], line 6\u001b[0m\n\u001b[1;32m      2\u001b[0m ckpt \u001b[38;5;241m=\u001b[39m torch\u001b[38;5;241m.\u001b[39mhub\u001b[38;5;241m.\u001b[39mload_state_dict_from_url(\n\u001b[1;32m      3\u001b[0m     url, map_location\u001b[38;5;241m=\u001b[39m\u001b[38;5;28;01mlambda\u001b[39;00m storage, loc: storage, file_name\u001b[38;5;241m=\u001b[39m\u001b[38;5;124m\"\u001b[39m\u001b[38;5;124mdemo_ei_ckp_150.pth\u001b[39m\u001b[38;5;124m\"\u001b[39m\n\u001b[1;32m      4\u001b[0m )\n\u001b[1;32m      5\u001b[0m \u001b[38;5;66;03m# load a checkpoint to reduce training time\u001b[39;00m\n\u001b[0;32m----> 6\u001b[0m model\u001b[38;5;241m.\u001b[39mload_state_dict(ckpt[\u001b[38;5;124m\"\u001b[39m\u001b[38;5;124mstate_dict\u001b[39m\u001b[38;5;124m\"\u001b[39m])\n",
      "File \u001b[0;32m~/anaconda3/envs/deepinv_env/lib/python3.11/site-packages/torch/nn/modules/module.py:2041\u001b[0m, in \u001b[0;36mModule.load_state_dict\u001b[0;34m(self, state_dict, strict)\u001b[0m\n\u001b[1;32m   2036\u001b[0m         error_msgs\u001b[38;5;241m.\u001b[39minsert(\n\u001b[1;32m   2037\u001b[0m             \u001b[38;5;241m0\u001b[39m, \u001b[38;5;124m'\u001b[39m\u001b[38;5;124mMissing key(s) in state_dict: \u001b[39m\u001b[38;5;132;01m{}\u001b[39;00m\u001b[38;5;124m. \u001b[39m\u001b[38;5;124m'\u001b[39m\u001b[38;5;241m.\u001b[39mformat(\n\u001b[1;32m   2038\u001b[0m                 \u001b[38;5;124m'\u001b[39m\u001b[38;5;124m, \u001b[39m\u001b[38;5;124m'\u001b[39m\u001b[38;5;241m.\u001b[39mjoin(\u001b[38;5;124m'\u001b[39m\u001b[38;5;124m\"\u001b[39m\u001b[38;5;132;01m{}\u001b[39;00m\u001b[38;5;124m\"\u001b[39m\u001b[38;5;124m'\u001b[39m\u001b[38;5;241m.\u001b[39mformat(k) \u001b[38;5;28;01mfor\u001b[39;00m k \u001b[38;5;129;01min\u001b[39;00m missing_keys)))\n\u001b[1;32m   2040\u001b[0m \u001b[38;5;28;01mif\u001b[39;00m \u001b[38;5;28mlen\u001b[39m(error_msgs) \u001b[38;5;241m>\u001b[39m \u001b[38;5;241m0\u001b[39m:\n\u001b[0;32m-> 2041\u001b[0m     \u001b[38;5;28;01mraise\u001b[39;00m \u001b[38;5;167;01mRuntimeError\u001b[39;00m(\u001b[38;5;124m'\u001b[39m\u001b[38;5;124mError(s) in loading state_dict for \u001b[39m\u001b[38;5;132;01m{}\u001b[39;00m\u001b[38;5;124m:\u001b[39m\u001b[38;5;130;01m\\n\u001b[39;00m\u001b[38;5;130;01m\\t\u001b[39;00m\u001b[38;5;132;01m{}\u001b[39;00m\u001b[38;5;124m'\u001b[39m\u001b[38;5;241m.\u001b[39mformat(\n\u001b[1;32m   2042\u001b[0m                        \u001b[38;5;28mself\u001b[39m\u001b[38;5;241m.\u001b[39m\u001b[38;5;18m__class__\u001b[39m\u001b[38;5;241m.\u001b[39m\u001b[38;5;18m__name__\u001b[39m, \u001b[38;5;124m\"\u001b[39m\u001b[38;5;130;01m\\n\u001b[39;00m\u001b[38;5;130;01m\\t\u001b[39;00m\u001b[38;5;124m\"\u001b[39m\u001b[38;5;241m.\u001b[39mjoin(error_msgs)))\n\u001b[1;32m   2043\u001b[0m \u001b[38;5;28;01mreturn\u001b[39;00m _IncompatibleKeys(missing_keys, unexpected_keys)\n",
      "\u001b[0;31mRuntimeError\u001b[0m: Error(s) in loading state_dict for BaseUnfold:\n\tMissing key(s) in state_dict: \"init_params_algo.g_param.0\", \"init_params_algo.g_param.1\", \"init_params_algo.g_param.2\", \"init_params_algo.lambda.0\", \"init_params_algo.lambda.1\", \"init_params_algo.lambda.2\", \"init_params_algo.stepsize.0\", \"init_params_algo.stepsize.1\", \"init_params_algo.stepsize.2\", \"prior.0.denoiser.denoiser.in_conv.weight\", \"prior.0.denoiser.denoiser.in_conv.bias\", \"prior.0.denoiser.denoiser.conv_list.0.weight\", \"prior.0.denoiser.denoiser.conv_list.0.bias\", \"prior.0.denoiser.denoiser.conv_list.1.weight\", \"prior.0.denoiser.denoiser.conv_list.1.bias\", \"prior.0.denoiser.denoiser.conv_list.2.weight\", \"prior.0.denoiser.denoiser.conv_list.2.bias\", \"prior.0.denoiser.denoiser.conv_list.3.weight\", \"prior.0.denoiser.denoiser.conv_list.3.bias\", \"prior.0.denoiser.denoiser.conv_list.4.weight\", \"prior.0.denoiser.denoiser.conv_list.4.bias\", \"prior.0.denoiser.denoiser.out_conv.weight\", \"prior.0.denoiser.denoiser.out_conv.bias\". \n\tUnexpected key(s) in state_dict: \"params_algo.g_param.0\", \"params_algo.g_param.1\", \"params_algo.g_param.2\", \"params_algo.lambda.0\", \"params_algo.lambda.1\", \"params_algo.lambda.2\", \"params_algo.stepsize.0\", \"params_algo.stepsize.1\", \"params_algo.stepsize.2\", \"prior.prox_g.0.denoiser.in_conv.weight\", \"prior.prox_g.0.denoiser.in_conv.bias\", \"prior.prox_g.0.denoiser.conv_list.0.weight\", \"prior.prox_g.0.denoiser.conv_list.0.bias\", \"prior.prox_g.0.denoiser.conv_list.1.weight\", \"prior.prox_g.0.denoiser.conv_list.1.bias\", \"prior.prox_g.0.denoiser.conv_list.2.weight\", \"prior.prox_g.0.denoiser.conv_list.2.bias\", \"prior.prox_g.0.denoiser.conv_list.3.weight\", \"prior.prox_g.0.denoiser.conv_list.3.bias\", \"prior.prox_g.0.denoiser.conv_list.4.weight\", \"prior.prox_g.0.denoiser.conv_list.4.bias\", \"prior.prox_g.0.denoiser.out_conv.weight\", \"prior.prox_g.0.denoiser.out_conv.bias\". "
     ]
    }
   ],
   "source": [
    "url = online_weights_path() + \"demo_ei_ckp_150.pth\"\n",
    "ckpt = torch.hub.load_state_dict_from_url(\n",
    "    url, map_location=lambda storage, loc: storage, file_name=\"demo_ei_ckp_150.pth\"\n",
    ")\n",
    "ckpt = torch.load_state_dict('new_demo_ei_ckp_150.ckpt')\n",
    "# load a checkpoint to reduce training time\n",
    "model.load_state_dict(ckpt[\"state_dict\"])"
   ]
  },
  {
   "cell_type": "code",
   "execution_count": 49,
   "id": "e21e4919",
   "metadata": {},
   "outputs": [],
   "source": [
    "new_weights = dict((key.replace('params_algo', 'init_params_algo'), value) for (key, value) in ckpt['state_dict'].items())\n",
    "new_dict = ckpt\n",
    "new_dict['state_dict'] = new_weights\n",
    "\n",
    "new_weights = dict((key.replace('denoiser.', 'denoiser.denoiser.'), value) for (key, value) in new_weights.items())\n",
    "new_dict = ckpt\n",
    "new_dict['state_dict'] = new_weights\n",
    "\n",
    "new_weights = dict((key.replace('prior.prox_g.', 'prior.'), value) for (key, value) in new_weights.items())\n",
    "new_dict = ckpt\n",
    "new_dict['state_dict'] = new_weights\n",
    "\n",
    "model.load_state_dict(new_dict[\"state_dict\"])\n",
    "torch.save(new_dict, 'new_demo_ei_ckp_150.ckpt')"
   ]
  },
  {
   "cell_type": "code",
   "execution_count": 33,
   "id": "9d6ec269",
   "metadata": {},
   "outputs": [
    {
     "name": "stdout",
     "output_type": "stream",
     "text": [
      "dict_keys(['init_init_params_algo.g_param.0', 'init_init_params_algo.g_param.1', 'init_init_params_algo.g_param.2', 'init_init_params_algo.lambda.0', 'init_init_params_algo.lambda.1', 'init_init_params_algo.lambda.2', 'init_init_params_algo.stepsize.0', 'init_init_params_algo.stepsize.1', 'init_init_params_algo.stepsize.2', 'prior.prox_g.0.denoiser.denoiser.in_conv.weight', 'prior.prox_g.0.denoiser.denoiser.in_conv.bias', 'prior.prox_g.0.denoiser.denoiser.conv_list.0.weight', 'prior.prox_g.0.denoiser.denoiser.conv_list.0.bias', 'prior.prox_g.0.denoiser.denoiser.conv_list.1.weight', 'prior.prox_g.0.denoiser.denoiser.conv_list.1.bias', 'prior.prox_g.0.denoiser.denoiser.conv_list.2.weight', 'prior.prox_g.0.denoiser.denoiser.conv_list.2.bias', 'prior.prox_g.0.denoiser.denoiser.conv_list.3.weight', 'prior.prox_g.0.denoiser.denoiser.conv_list.3.bias', 'prior.prox_g.0.denoiser.denoiser.conv_list.4.weight', 'prior.prox_g.0.denoiser.denoiser.conv_list.4.bias', 'prior.prox_g.0.denoiser.denoiser.out_conv.weight', 'prior.prox_g.0.denoiser.denoiser.out_conv.bias'])\n"
     ]
    }
   ],
   "source": [
    "print(new_dict['state_dict'].keys())"
   ]
  },
  {
   "cell_type": "code",
   "execution_count": null,
   "id": "491f4dff",
   "metadata": {},
   "outputs": [],
   "source": []
  }
 ],
 "metadata": {
  "kernelspec": {
   "display_name": "Python 3 (ipykernel)",
   "language": "python",
   "name": "python3"
  },
  "language_info": {
   "codemirror_mode": {
    "name": "ipython",
    "version": 3
   },
   "file_extension": ".py",
   "mimetype": "text/x-python",
   "name": "python",
   "nbconvert_exporter": "python",
   "pygments_lexer": "ipython3",
   "version": "3.11.3"
  }
 },
 "nbformat": 4,
 "nbformat_minor": 5
}
